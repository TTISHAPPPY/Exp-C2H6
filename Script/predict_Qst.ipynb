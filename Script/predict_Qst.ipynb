{
 "cells": [
  {
   "cell_type": "markdown",
   "metadata": {},
   "source": [
    "### Load data"
   ]
  },
  {
   "cell_type": "code",
   "execution_count": null,
   "metadata": {},
   "outputs": [],
   "source": [
    "import numpy as np \n",
    "import random\n",
    "import os\n",
    "import pandas as pd \n",
    "from sklearn.preprocessing import MinMaxScaler, StandardScaler\n",
    "from sklearn.ensemble import GradientBoostingRegressor, GradientBoostingClassifier, RandomForestRegressor, AdaBoostRegressor\n",
    "from sklearn.tree import DecisionTreeRegressor\n",
    "from sklearn.naive_bayes import GaussianNB\n",
    "from sklearn import svm \n",
    "from sklearn.svm import SVR\n",
    "from sklearn.linear_model import LassoCV,Lasso\n",
    "from sklearn.neural_network import MLPClassifier, MLPRegressor\n",
    "from sklearn.neighbors import KNeighborsClassifier\n",
    "from sklearn.metrics import mean_absolute_error, mean_squared_error, r2_score, accuracy_score, precision_score, recall_score, f1_score\n",
    "from sklearn.model_selection import train_test_split, cross_val_score, KFold, StratifiedKFold, StratifiedShuffleSplit\n",
    "from sklearn.neighbors import KNeighborsRegressor \n",
    "import optuna\n",
    "from xgboost import XGBRegressor\n",
    "import joblib\n",
    "from scipy.stats import pearsonr\n",
    "import pickle\n",
    "import smogn\n",
    "from smogn import smoter"
   ]
  },
  {
   "cell_type": "markdown",
   "metadata": {},
   "source": [
    "#### Note\n",
    "Add the predicted ethylene or ethane adsorption values to label.csv with the column name 'Predicted"
   ]
  },
  {
   "cell_type": "code",
   "execution_count": 44,
   "metadata": {},
   "outputs": [],
   "source": [
    "path = \"file_path\" # path to the directory where the data files are stored\n",
    "filename = ['global.csv','metal_properties.csv','fr_descriptors.csv','label.csv']\n",
    "\n",
    "load_data = []\n",
    "for i in filename:\n",
    "    load_data.append(pd.read_csv(filepath_or_buffer=os.path.join(path,i)))\n",
    "\n",
    "load_data_content = {'Global':0 ,'metal':1, \"Linker_fr\":2}"
   ]
  },
  {
   "cell_type": "code",
   "execution_count": 45,
   "metadata": {},
   "outputs": [],
   "source": [
    "def select_data(data, select_data_content, select_descriptor):\n",
    "    \"\"\"\n",
    "    Selects and merges specified descriptor data with base physical properties.\n",
    "    \n",
    "    Args:\n",
    "        data: Input dataset where the last element contains labeled data\n",
    "        select_data_content: Dictionary mapping descriptor names to their indices in data\n",
    "        select_descriptor: List of descriptor names to include\n",
    "        \n",
    "    Returns:\n",
    "        output_X: Combined feature matrix (excluding MOF identifiers)\n",
    "    \"\"\"\n",
    "    \n",
    "    # (1) Prepare training dataset\n",
    "    data_labels = data[-1]  # Assuming last item in data contains labeled samples\n",
    "    # Select base physical properties columns\n",
    "    data_physics = data_labels.iloc[:, :]  # Assuming these columns contain physical properties (including 'mof_name')\n",
    "    # Initialize dataset with base physical properties\n",
    "    data_all = data_physics.copy()\n",
    "    \n",
    "    # Merge selected descriptor data\n",
    "    for descriptor in select_descriptor:\n",
    "        idx = select_data_content[descriptor]\n",
    "        # Merge descriptor data using 'mof' as primary key\n",
    "        data_all = pd.merge(data_all, data[idx], on='mof', how='left')\n",
    "    \n",
    "    # Remove 'mof' column after merging (assuming 'mof_name' is the merge column)\n",
    "    data_x = data_all.drop(['mof'], axis=1).astype(float)\n",
    "    output_X = data_x.copy()    \n",
    "    return output_X"
   ]
  },
  {
   "cell_type": "markdown",
   "metadata": {},
   "source": [
    "### select_descriptor"
   ]
  },
  {
   "cell_type": "code",
   "execution_count": 46,
   "metadata": {},
   "outputs": [],
   "source": [
    "\n",
    "select_descriptor = ['Global', 'metal', 'Linker_fr']\n",
    "data_X = select_data(data = load_data,                             \n",
    "                             select_data_content = load_data_content, \n",
    "                             select_descriptor=select_descriptor)"
   ]
  },
  {
   "cell_type": "code",
   "execution_count": 48,
   "metadata": {},
   "outputs": [],
   "source": [
    "features = ['temperature', 'gastype', 'Predicted', 'LCD', 'PLD', 'desity(g/cm^3)',\n",
    "       'VSA(m^2/cm^3)', 'void_fraction', 'atomic_radius', 'electronegativity',\n",
    "       'electron_affinity', 'ionization_energy', 'atomic_weight', 'oxistates',\n",
    "       'fr_Al_COO', 'fr_Al_OH', 'fr_Ar_COO', 'fr_Ar_N', 'fr_Ar_NH',\n",
    "       'fr_C_O_noCOO', 'fr_NH0', 'fr_alkyl_halide', 'fr_aniline',\n",
    "       'fr_aryl_methyl', 'fr_azo', 'fr_benzene', 'fr_bicyclic', 'fr_furan',\n",
    "       'fr_nitrile', 'fr_pyridine']\n",
    "df_cleaned = data_X[features]"
   ]
  },
  {
   "cell_type": "markdown",
   "metadata": {},
   "source": [
    "### prediction"
   ]
  },
  {
   "cell_type": "code",
   "execution_count": 51,
   "metadata": {},
   "outputs": [],
   "source": [
    "model = joblib.load(\"/Model/Qst.pkl\")\n",
    "model_scaler = joblib.load(\"Model/Qst_scaler.pkl\")"
   ]
  },
  {
   "cell_type": "code",
   "execution_count": null,
   "metadata": {},
   "outputs": [],
   "source": [
    "X = model_scaler.transform(df_cleaned)\n",
    "y = model.predict(X)\n",
    "print(y) "
   ]
  }
 ],
 "metadata": {
  "kernelspec": {
   "display_name": "ml_basic",
   "language": "python",
   "name": "python3"
  },
  "language_info": {
   "codemirror_mode": {
    "name": "ipython",
    "version": 3
   },
   "file_extension": ".py",
   "mimetype": "text/x-python",
   "name": "python",
   "nbconvert_exporter": "python",
   "pygments_lexer": "ipython3",
   "version": "3.10.14"
  }
 },
 "nbformat": 4,
 "nbformat_minor": 2
}
