{
 "cells": [
  {
   "cell_type": "code",
   "execution_count": 1,
   "metadata": {},
   "outputs": [],
   "source": [
    "import os\n",
    "import pandas as pd\n",
    "from tqdm import tqdm\n",
    "from collections import Counter\n",
    "from pycm import ConfusionMatrix\n",
    "from imblearn.over_sampling import SMOTE\n",
    "from imblearn.under_sampling import RandomUnderSampler\n",
    "from imblearn.combine import SMOTETomek\n",
    "\n",
    "from sklearn.preprocessing import StandardScaler\n",
    "from sklearn.ensemble import RandomForestClassifier\n",
    "from xgboost import XGBClassifier\n",
    "from sklearn.svm import SVC\n",
    "from sklearn.metrics import accuracy_score as accuracy\n",
    "from sklearn.metrics import balanced_accuracy_score as bal_score\n",
    "from sklearn.metrics import precision_score, recall_score, f1_score, roc_auc_score\n",
    "from sklearn.model_selection import train_test_split, StratifiedKFold, GridSearchCV\n",
    "import pickle\n",
    "import joblib\n",
    "from sklearn.metrics import classification_report\n",
    "from sklearn.metrics import accuracy_score, precision_score, recall_score"
   ]
  },
  {
   "cell_type": "code",
   "execution_count": 2,
   "metadata": {},
   "outputs": [],
   "source": [
    "path = \"file_path\" # path to the directory where the data files are stored\n",
    "filename = ['global.csv','metal_properties.csv','fr_descriptors.csv','label_sel.csv']\n",
    "\n",
    "load_data = []\n",
    "for i in filename:\n",
    "    load_data.append(pd.read_csv(filepath_or_buffer=os.path.join(path,i)))\n",
    "\n",
    "load_data_content = {'Global':0 ,'metal':1, \"Linker_fr\":2}"
   ]
  },
  {
   "cell_type": "markdown",
   "metadata": {},
   "source": [
    "### Load Classifier"
   ]
  },
  {
   "cell_type": "code",
   "execution_count": 4,
   "metadata": {},
   "outputs": [],
   "source": [
    "def select_classification(data, select_data_content, select_descriptor):\n",
    "    \"\"\"\n",
    "    Selects and merges specified descriptor data with base physical properties for classification tasks.\n",
    "    \n",
    "    Args:\n",
    "        data: Input dataset where the last element contains labeled data\n",
    "        select_data_content: Dictionary mapping descriptor names to their indices in data\n",
    "        select_descriptor: List of descriptor names to include\n",
    "        \n",
    "    Returns:\n",
    "        output_X: Combined feature matrix (excluding MOF identifiers)\n",
    "    \"\"\"\n",
    "    \n",
    "    # (1) Prepare training dataset\n",
    "    data_labels = data[-1]  # Assuming last item contains labeled data\n",
    "    # Select base physical property columns (column 0: MOF, 1: gas type, 2: temperature)\n",
    "    data_physics = data_labels.iloc[:, [0,1,2]]\n",
    "    # Initialize dataset with base physical properties\n",
    "    data_all = data_physics.copy()\n",
    "    \n",
    "    # Merge selected descriptor data\n",
    "    for descriptor in select_descriptor:\n",
    "        idx = select_data_content[descriptor]\n",
    "        # Merge descriptor data using 'mof' as primary key\n",
    "        data_all = pd.merge(data_all, data[idx], on='mof', how='left')\n",
    "    \n",
    "    # Remove 'mof' column after merging\n",
    "    data_X = data_all.drop(['mof'], axis=1).astype(float)\n",
    "    output_X = data_X.copy()\n",
    "    \n",
    "    return output_X"
   ]
  },
  {
   "cell_type": "markdown",
   "metadata": {},
   "source": [
    "### Dataset"
   ]
  },
  {
   "cell_type": "code",
   "execution_count": null,
   "metadata": {},
   "outputs": [],
   "source": [
    "select_descriptor = ['Global','metal',\"Linker_fr\"]\n",
    "data_X = select_classification(data = load_data,\n",
    "                               select_data_content = load_data_content, \n",
    "                               select_descriptor=select_descriptor,\n",
    "                               )  "
   ]
  },
  {
   "cell_type": "code",
   "execution_count": 7,
   "metadata": {},
   "outputs": [],
   "source": [
    "features = ['LCD', 'PLD', 'desity(g/cm^3)', 'VSA(m^2/cm^3)', 'GSA(m^2/g)',\n",
    "       'Vp(cm^3/g)', 'void_fraction', 'atomic_radius', 'electronegativity',\n",
    "       'electron_affinity', 'ionization_energy', 'atomic_weight', 'oxistates',\n",
    "       'fr_Al_COO', 'fr_Al_OH', 'fr_Al_OH_noTert', 'fr_ArN', 'fr_Ar_COO',\n",
    "       'fr_Ar_N', 'fr_Ar_NH', 'fr_COO', 'fr_COO2', 'fr_C_O', 'fr_C_O_noCOO',\n",
    "       'fr_NH0', 'fr_NH1', 'fr_NH2', 'fr_Nhpyrrole', 'fr_aniline',\n",
    "       'fr_aryl_methyl', 'fr_azo', 'fr_benzene', 'fr_bicyclic', 'fr_ether',\n",
    "       'fr_furan', 'fr_halogen', 'fr_methoxy', 'fr_piperzine', 'fr_pyridine',\n",
    "       'fr_sulfone']\n",
    "data_X = data_X[features]"
   ]
  },
  {
   "cell_type": "markdown",
   "metadata": {},
   "source": [
    "### prediction"
   ]
  },
  {
   "cell_type": "code",
   "execution_count": 9,
   "metadata": {},
   "outputs": [],
   "source": [
    "model = joblib.load('Model\\selectivity.pkl')\n",
    "model_scaler = joblib.load('Model\\selectivity_scaler.pkl')"
   ]
  },
  {
   "cell_type": "code",
   "execution_count": null,
   "metadata": {},
   "outputs": [],
   "source": [
    "X = data_X.values\n",
    "X = model_scaler.transform(X)\n",
    "y = model.predict(X)\n",
    "print('y:',y)"
   ]
  }
 ],
 "metadata": {
  "kernelspec": {
   "display_name": "ml_basic",
   "language": "python",
   "name": "python3"
  },
  "language_info": {
   "codemirror_mode": {
    "name": "ipython",
    "version": 3
   },
   "file_extension": ".py",
   "mimetype": "text/x-python",
   "name": "python",
   "nbconvert_exporter": "python",
   "pygments_lexer": "ipython3",
   "version": "3.10.14"
  }
 },
 "nbformat": 4,
 "nbformat_minor": 2
}
