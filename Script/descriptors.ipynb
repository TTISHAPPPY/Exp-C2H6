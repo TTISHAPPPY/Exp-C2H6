{
 "cells": [
  {
   "cell_type": "code",
   "execution_count": 1,
   "metadata": {},
   "outputs": [],
   "source": [
    "import pandas as pd\n",
    "from rdkit import Chem\n",
    "from rdkit.Chem import Descriptors\n",
    "from rdkit.Chem import MACCSkeys\n",
    "import matplotlib.pyplot as plt\n",
    "import seaborn as sns\n",
    "import os\n",
    "from mendeleev import element\n",
    "import numpy as np"
   ]
  },
  {
   "cell_type": "markdown",
   "metadata": {},
   "source": [
    "#### the fragments in the linker unit calculated using RDKit descriptors"
   ]
  },
  {
   "cell_type": "code",
   "execution_count": 3,
   "metadata": {},
   "outputs": [],
   "source": [
    "def compute_fr_descriptors(df, save_path):\n",
    "    \"\"\"\n",
    "    Extracts all molecular descriptors starting with `fr_` from a DataFrame containing SMILES and saves them as a CSV file.\n",
    "    \n",
    "    Parameters:\n",
    "        df: pd.DataFrame, must include columns 'mof', 'smiles1', 'smiles2'\n",
    "        save_path: str, the path to save the output file\n",
    "        \n",
    "    Returns:\n",
    "        None (saves the results to a CSV file)\n",
    "    \"\"\"\n",
    "    # Combine SMILES strings\n",
    "    df['combined_smiles'] = df[['smiles1', 'smiles2']].apply(\n",
    "        lambda row: '.'.join([smiles for smiles in row if pd.notna(smiles) and smiles != '']),\n",
    "        axis=1\n",
    "    )\n",
    "    smiles_des = df[['mof', 'combined_smiles']]\n",
    "\n",
    "    # Get all fr_ descriptors\n",
    "    fr_descriptors = [desc_name for desc_name, _ in Descriptors.descList if desc_name.startswith(\"fr_\")]\n",
    "\n",
    "    # Function to calculate fr_ descriptors\n",
    "    def calculate_fr_descriptors(smiles):\n",
    "        mol = Chem.MolFromSmiles(smiles)\n",
    "        if mol is None:\n",
    "            return {desc: None for desc in fr_descriptors}\n",
    "        return {desc: getattr(Descriptors, desc)(mol) for desc in fr_descriptors}\n",
    "\n",
    "    # Batch calculation\n",
    "    df_fr_values = smiles_des['combined_smiles'].apply(calculate_fr_descriptors)\n",
    "    fr_df = pd.DataFrame(df_fr_values.tolist())\n",
    "\n",
    "    # Merge results\n",
    "    result_df = pd.concat([smiles_des[['mof']], fr_df], axis=1)\n",
    "    result_df.to_csv(save_path, index=False)\n",
    "    print(f\"Descriptor file saved to: {save_path}\")"
   ]
  },
  {
   "cell_type": "code",
   "execution_count": null,
   "metadata": {},
   "outputs": [],
   "source": [
    "df = pd.read_csv(\"your_input.csv\")  # your filename, smiles1, smiles2 csv\n",
    "compute_fr_descriptors(df, \"fr_descriptors.csv\")"
   ]
  },
  {
   "cell_type": "markdown",
   "metadata": {},
   "source": [
    "#### the metal in the secondary building unit"
   ]
  },
  {
   "cell_type": "code",
   "execution_count": 2,
   "metadata": {},
   "outputs": [],
   "source": [
    "def extract_metal_properties(df, save_path, metal_column='All_Metals'):\n",
    "    \"\"\"\n",
    "    Extracts metal properties (e.g., atomic radius, electronegativity) based on metal element combinations in a DataFrame and saves them to a CSV file.\n",
    "\n",
    "    Parameters:\n",
    "        df: DataFrame containing 'filename' and metal element information\n",
    "        save_path: Path to save the CSV file\n",
    "        metal_column: Column name containing metal elements (can be a string or list), defaults to 'All_Metals'\n",
    "    \"\"\"\n",
    "    # Define properties to extract\n",
    "    properties = ['atomic_radius', 'electronegativity', 'electron_affinity', \n",
    "                  'ionization_energy', 'atomic_weight', 'oxistates']\n",
    "\n",
    "    # Define function to extract properties\n",
    "    def get_element_properties(metals):\n",
    "        radii, energies, affinities, electronegativities, weights, oxistates = [], [], [], [], [], []\n",
    "        for metal in metals:\n",
    "            try:\n",
    "                elem = element(str(metal))\n",
    "                radii.append(float(elem.atomic_radius) / 100 if elem.atomic_radius else np.nan)\n",
    "                energies.append(elem.ionenergies.get(1, np.nan))\n",
    "                affinities.append(float(elem.electron_affinity) if elem.electron_affinity else np.nan)\n",
    "                electronegativities.append(float(elem.en_pauling) if elem.en_pauling else np.nan)\n",
    "                weights.append(float(elem.atomic_weight) if elem.atomic_weight else np.nan)\n",
    "                oxistates.append(elem.oxistates[-1] if elem.oxistates else np.nan)\n",
    "            except Exception as e:\n",
    "                print(f\"Error processing element {metal}: {e}\")\n",
    "                radii.append(np.nan)\n",
    "                energies.append(np.nan)\n",
    "                affinities.append(np.nan)\n",
    "                electronegativities.append(np.nan)\n",
    "                weights.append(np.nan)\n",
    "                oxistates.append(np.nan)\n",
    "        return {\n",
    "            'atomic_radius': np.nanmean(radii),\n",
    "            'ionization_energy': np.nanmean(energies),\n",
    "            'electron_affinity': np.nanmean(affinities),\n",
    "            'electronegativity': np.nanmean(electronegativities),\n",
    "            'atomic_weight': np.nanmean(weights),\n",
    "            'oxistates': np.nanmean(oxistates)\n",
    "        }\n",
    "    \n",
    "    # Extract metal properties and assemble into DataFrame\n",
    "    result_rows = []\n",
    "    for _, row in df[['mof', metal_column]].iterrows():\n",
    "        metals = str(row[metal_column]).split(',')  # Assumes metals are comma-separated\n",
    "        properties_dict = get_element_properties(metals)\n",
    "        result_row = {'mof': row['mof'], **properties_dict}\n",
    "        result_rows.append(result_row)\n",
    "    result_df = pd.DataFrame(result_rows)\n",
    "    result_df.to_csv(save_path, index=False)\n",
    "    print(f\"Metal descriptor file saved to: {save_path}\")"
   ]
  },
  {
   "cell_type": "code",
   "execution_count": null,
   "metadata": {},
   "outputs": [],
   "source": [
    "df = pd.read_csv(\"your_input_file.csv\")  # Must contain 'mof' and 'All_Metals' columns\n",
    "df['All_Metals'] = df['metal1'] + df['metal2'].fillna('').apply(lambda x: '' if x == '' else ',' + x)\n",
    "extract_metal_properties(df, \"metal_properties.csv\", metal_column='All_Metals')"
   ]
  },
  {
   "cell_type": "markdown",
   "metadata": {},
   "source": [
    "#### structural characteristics of the MOFs"
   ]
  },
  {
   "cell_type": "markdown",
   "metadata": {},
   "source": [
    "calculated using zeo++:\n",
    "- 'LCD', \n",
    "'PLD', 'desity(g/cm^3)','VSA(m^2/cm^3)', 'GSA(m^2/g)', 'Vp(cm^3/g)', 'void_fraction'"
   ]
  },
  {
   "cell_type": "code",
   "execution_count": null,
   "metadata": {},
   "outputs": [],
   "source": [
    "# Specify the path to the original DataFrame file\n",
    "file_path = 'input_file.csv'  # Contains geometric properties calculated by zeo++\n",
    "\n",
    "# Define column names to extract\n",
    "columns_to_extract = [\n",
    "    'mof', 'LCD', 'PLD', 'desity(g/cm^3)',\n",
    "    'VSA(m^2/cm^3)', 'GSA(m^2/g)', 'Vp(cm^3/g)', 'void_fraction'\n",
    "]\n",
    "\n",
    "# Read file and extract specified columns\n",
    "df = pd.read_csv(file_path)  # Use pd.read_csv for .csv files\n",
    "selected_df = df[columns_to_extract]\n",
    "\n",
    "# Save as new file\n",
    "selected_df.to_csv('global.csv', index=False)"
   ]
  },
  {
   "cell_type": "markdown",
   "metadata": {},
   "source": [
    "#### other physical conditions"
   ]
  },
  {
   "cell_type": "markdown",
   "metadata": {},
   "source": [
    "- gas_type\n",
    "- temperature"
   ]
  },
  {
   "cell_type": "code",
   "execution_count": 16,
   "metadata": {},
   "outputs": [],
   "source": [
    "gas_weights = {\n",
    "    'CH4': 16.04,\n",
    "    'CO2': 44.01,\n",
    "    'C2H6': 30.07,\n",
    "    'C2H4': 28.05,\n",
    "    'C3H8': 44.10,\n",
    "    'C3H6': 42.08,\n",
    "    'N2': 28.01,\n",
    "    'O2': 32.00,\n",
    "    'H2': 2.02,\n",
    "    'Ar': 39.95,\n",
    "    'SF6': 146.06,\n",
    "    'Xe': 131.29,\n",
    "    'Kr': 83.80,\n",
    "    'Ne': 20.18,\n",
    "    'C4H10': 58.12,\n",
    "}"
   ]
  },
  {
   "cell_type": "code",
   "execution_count": 15,
   "metadata": {},
   "outputs": [],
   "source": [
    "df = pd.read_csv('input.csv')  # Contains gas type and temperature\n",
    "df['gastype'] = df['gastype'].str.strip().str.upper().apply(lambda x: gas_weights.get(x, np.nan))\n",
    "df = df[['mof','gastype','temperature']]\n",
    "df.to_csv('label.csv', index=False)"
   ]
  },
  {
   "cell_type": "markdown",
   "metadata": {},
   "source": [
    "### Data Processing Pipeline\n",
    "\n",
    "We have computed the following descriptor sets separately:\n",
    "1. **Organic ligand descriptors** - Molecular features of the linker components\n",
    "2. **Metal descriptors** - Physical/chemical properties of metal nodes\n",
    "3. **Structural descriptors** - Geometric properties calculated by zeo++\n",
    "4. **Experimental parameters** - Gas species and temperature conditions\n",
    "\n",
    "#### File Requirements:\n",
    "- All output files must contain a `mof` column (case-sensitive) as the merge key\n",
    "- Files should be saved in CSV format for consistency\n",
    "\n",
    "\n",
    "#### Important Notes:\n",
    "⚠️ **Data Quality Check**:\n",
    "- Metal descriptors may contain null values (particularly for uncommon elements)\n",
    "- Recommended approaches for handling missing data:\n",
    "  - Manual curation using periodic table references"
   ]
  }
 ],
 "metadata": {
  "kernelspec": {
   "display_name": "ml_basic",
   "language": "python",
   "name": "python3"
  },
  "language_info": {
   "codemirror_mode": {
    "name": "ipython",
    "version": 3
   },
   "file_extension": ".py",
   "mimetype": "text/x-python",
   "name": "python",
   "nbconvert_exporter": "python",
   "pygments_lexer": "ipython3",
   "version": "3.10.14"
  }
 },
 "nbformat": 4,
 "nbformat_minor": 2
}
